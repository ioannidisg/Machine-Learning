{
  "cells": [
    {
      "cell_type": "markdown",
      "metadata": {
        "id": "view-in-github",
        "colab_type": "text"
      },
      "source": [
        "<a href=\"https://colab.research.google.com/github/ioannidisg/Machine-Learning/blob/main/problem3.ipynb\" target=\"_parent\"><img src=\"https://colab.research.google.com/assets/colab-badge.svg\" alt=\"Open In Colab\"/></a>"
      ]
    },
    {
      "cell_type": "markdown",
      "metadata": {
        "id": "cQ7YzabwjTmk"
      },
      "source": [
        "## Εργασία 3 ##\n",
        "\n",
        "Καλωσήρθατε στην τρίτη σας εργασία. Η εργασία αυτή έχει σκοπό να σας βοηθήσει να εμπεδώσετε τα σύνολα μοντέλων.\n",
        "\n",
        "Στην εργασία αυτή θα πρέπει να συμπληρώσετε κώδικα Python 3 στα σημεία που αναφέρουν # YOUR CODE HERE. Μην τροποποιείτε τον κώδικα που βρίσκεται εκτός αυτών των περιοχών.\n",
        "\n",
        "Πρωτού παραδόσετε την εργασία σας σιγουρευτείτε ότι ο κώδικας σε όλα τα κελιά τρέχει σωστά. Για το σκοπό αυτό επιλέξτε από το μενού Χρόνος εκτέλεσης (runtime) -> Επανεκίνηση περιόδου λειτουργίας και εκτέλεση όλων.\n",
        "\n",
        "Συμπληρώστε το όνομα (NAME) και το AEM σας παρακάτω:"
      ]
    },
    {
      "cell_type": "code",
      "execution_count": null,
      "metadata": {
        "id": "3-rBqXXbjyR0"
      },
      "outputs": [],
      "source": [
        "NAME = \"Ioannidis Georgios\"\n",
        "AEM = \"10490\""
      ]
    },
    {
      "cell_type": "markdown",
      "metadata": {
        "id": "egArYhcsTG-T"
      },
      "source": [
        "**1** Διαβάστε το διαθέσιμο από την sklearn σύνολο δεδομένων breast cancer, χωρίστε το σε δεδομένα εκπαίδευσης (X_train, y_train) και ελέγχου (X_test, y_test) σε ποσοστό 70%/30% αντίστοιχα με τη συνάρτηση train_test_split (τιμή για random_state βάλτε 0). Το σύνολο αφορά τη διάγνωση καρκίνου του μαστού με βάση μεταβλητές που υπολογίζονται από μια ψηφιοποιημένη εικόνα δείγματος μάζας μαστού που λήφθηκε μέσω αναρρόφησης λεπτής βελόνας (FNA). (2 μονάδες)"
      ]
    },
    {
      "cell_type": "code",
      "execution_count": null,
      "metadata": {
        "deletable": false,
        "id": "qgaPtNAmTCX7",
        "nbgrader": {
          "cell_type": "code",
          "checksum": "29b99b6039fac516d5fa9c7649e40e1d",
          "grade": false,
          "grade_id": "cell-407a2dea48bfbf80",
          "locked": false,
          "schema_version": 3,
          "solution": true,
          "task": false
        }
      },
      "outputs": [],
      "source": [
        "from sklearn.datasets import load_breast_cancer\n",
        "from sklearn.model_selection import train_test_split\n",
        "\n",
        "# Φόρτωση του συνόλου δεδομένων\n",
        "data = load_breast_cancer()\n",
        "X = data.data\n",
        "y = data.target\n",
        "\n",
        "X_train, X_test, y_train, y_test = train_test_split(X, y, test_size=0.3, random_state=0)\n",
        "\n"
      ]
    },
    {
      "cell_type": "code",
      "execution_count": null,
      "metadata": {
        "deletable": false,
        "editable": false,
        "id": "19LlgZx5cOLP",
        "nbgrader": {
          "cell_type": "code",
          "checksum": "e4b7add4e469cfc1221bdad01497d404",
          "grade": true,
          "grade_id": "cell-7387a72f2393ed9a",
          "locked": true,
          "points": 2,
          "schema_version": 3,
          "solution": false,
          "task": false
        }
      },
      "outputs": [],
      "source": [
        "\"\"\"Τεστ ορθής ανάγνωσης και διαχωρισμού του συνόλου δεδομένων\"\"\"\n",
        "assert round(X_train[0][8], 5) == 0.1779\n",
        "assert round(X_test[0][8], 5) == 0.2116"
      ]
    },
    {
      "cell_type": "markdown",
      "metadata": {
        "id": "RB8RexuPciQr"
      },
      "source": [
        "**2** Υλοποιήστε μια ντετερμινιστική εκδοχή της μεθόδου των τυχαίων υποχώρων, η οποία χτίζει τόσα μοντέλα όσες και οι μεταβλητές εισόδου, κάθε ένα από τα οποία αγνοεί και μία διαφορετική μεταβλητή εισόδου. Π.χ. το πρώτο μοντέλο αγνοεί την πρώτη, το δεύτερο αγνοεί τη δεύτερη κτλ. Χρησιμοποιήστε τη συνάρτηση clone από το sklearn.base για να δημιουργήστε αντίγραφο του βασικού μοντέλου σε κάθε επανάληψη. (4 μονάδες)"
      ]
    },
    {
      "cell_type": "code",
      "source": [
        "import numpy as np\n",
        "from sklearn.tree import DecisionTreeClassifier\n",
        "from sklearn.base import clone\n",
        "\n",
        "class RandomSubspaceDet:\n",
        "    def __init__(self, estimator=DecisionTreeClassifier()):\n",
        "        self.estimator = estimator\n",
        "        self.models = []\n",
        "        self.n_features = None\n",
        "\n",
        "    def fit(self, X_train, y_train):\n",
        "        self.n_features = X_train.shape[1]\n",
        "        self.models = []\n",
        "\n",
        "        for i in range(self.n_features):\n",
        "            new_X_train = np.delete(X_train, i, axis=1) # εδώ αφαιρώ την i μεταβλητή εισόδου\n",
        "            temp_mod = clone(self.estimator) # αντίγραφο βασικού μοντέλου\n",
        "            temp_mod.fit(new_X_train, y_train) #\n",
        "            self.models.append(temp_mod)\n",
        "\n",
        "    def predict(self, X):\n",
        "        predictions = np.zeros((X.shape[0], self.n_features)) # πίνακας μηδενικών\n",
        "\n",
        "        for i, model in enumerate(self.models): # loop για κάθε μοντέλο\n",
        "            new_X = np.delete(X, i, axis=1) # για αντιστοίχηση με fit\n",
        "            predictions[:, i] = model.predict(new_X)\n",
        "\n",
        "        # Συνδυασμός των προβλέψεων με ψηφοφορία\n",
        "        final_predictions = np.apply_along_axis(lambda x: np.bincount(x.astype(int)).argmax(), axis=1, arr=predictions)\n",
        "        #arr=\"πινακας που θα εφαρμοστεί η συνάρτηση\" ,argmax=\"θεση μεγαλύτερης τιμής\"\n",
        "        return final_predictions\n"
      ],
      "metadata": {
        "id": "q67r-234g2uA"
      },
      "execution_count": null,
      "outputs": []
    },
    {
      "cell_type": "code",
      "execution_count": null,
      "metadata": {
        "deletable": false,
        "editable": false,
        "id": "iDNUeGUEciwi",
        "nbgrader": {
          "cell_type": "code",
          "checksum": "4db933425279be3712175509b4ba2f53",
          "grade": true,
          "grade_id": "cell-786f87fa5e67b624",
          "locked": true,
          "points": 4,
          "schema_version": 3,
          "solution": false,
          "task": false
        }
      },
      "outputs": [],
      "source": [
        "\"\"\"Τεστ ορθής υλοποίησης RandomSubspaceDet\"\"\"\n",
        "from sklearn.metrics import accuracy_score\n",
        "\n",
        "rs = RandomSubspaceDet(estimator=DecisionTreeClassifier(random_state=1))\n",
        "rs.fit(X_train, y_train)\n",
        "assert round(accuracy_score(rs.predict(X_test), y_test), 4) == 0.9006"
      ]
    },
    {
      "cell_type": "markdown",
      "metadata": {
        "id": "n19eEYRNRnG-"
      },
      "source": [
        "**3** Υλοποιήστε τη μέθοδο AdaBoost όπως παρουσιάστηκε στο μάθημα. Χρησιμοποιήστε τη συνάρτηση clone από το sklearn.base για να δημιουργήστε αντίγραφο του βασικού μοντέλου σε κάθε επανάληψη. Χρησιμοποιήστε την παράμετρο sample_weight της fit του βασικού μοντέλου για να ορίσετε τα βάρη των παραδειγμάτων εκπαίδευσης. (4 μονάδες)"
      ]
    },
    {
      "cell_type": "code",
      "source": [
        "import numpy as np\n",
        "from sklearn.tree import DecisionTreeClassifier\n",
        "from sklearn.base import clone\n",
        "\n",
        "class AdaBoost:\n",
        "    def __init__(self, n_estimators=20, estimator=DecisionTreeClassifier(max_depth=1)):\n",
        "        self.n_estimators = n_estimators\n",
        "        self.estimator = estimator\n",
        "        self.models = []\n",
        "        self.alphas = []\n",
        "\n",
        "    def fit(self, X_train, y_train):Εργασία 3\n",
        "Καλωσήρθατε στην τρίτη σας εργασία. Η εργασία αυτή έχει σκοπό να σας βοηθήσει να εμπεδώσετε τα σύνολα μοντέλων.\n",
        "\n",
        "Στην εργασία αυτή θα πρέπει να συμπληρώσετε κώδικα Python 3 στα σημεία που αναφέρουν # YOUR CODE HERE. Μην τροποποιείτε τον κώδικα που βρίσκεται εκτός αυτών των περιοχών.\n",
        "\n",
        "Πρωτού παραδόσετε την εργασία σας σιγουρευτείτε ότι ο κώδικας σε όλα τα κελιά τρέχει σωστά. Για το σκοπό αυτό επιλέξτε από το μενού Χρόνος εκτέλεσης (runtime) -> Επανεκίνηση περιόδου λειτουργίας και εκτέλεση όλων.\n",
        "\n",
        "Συμπληρώστε το όνομα (NAME) και το AEM σας παρακάτω:\n",
        "\n",
        "\n",
        "[ ]\n",
        "NAME = \"Ioannidis Georgios\"\n",
        "AEM = \"10490\"\n",
        "1 Διαβάστε το διαθέσιμο από την sklearn σύνολο δεδομένων breast cancer, χωρίστε το σε δεδομένα εκπαίδευσης (X_train, y_train) και ελέγχου (X_test, y_test) σε ποσοστό 70%/30% αντίστοιχα με τη συνάρτηση train_test_split (τιμή για random_state βάλτε 0). Το σύνολο αφορά τη διάγνωση καρκίνου του μαστού με βάση μεταβλητές που υπολογίζονται από μια ψηφιοποιημένη εικόνα δείγματος μάζας μαστού που λήφθηκε μέσω αναρρόφησης λεπτής βελόνας (FNA). (2 μονάδες)\n",
        "\n",
        "\n",
        "[ ]\n",
        "from sklearn.datasets import load_breast_cancer\n",
        "from sklearn.model_selection import train_test_split\n",
        "\n",
        "# Φόρτωση του συνόλου δεδομένων\n",
        "data = load_breast_cancer()\n",
        "X = data.data\n",
        "y = data.target\n",
        "\n",
        "X_train, X_test, y_train, y_test = train_test_split(X, y, test_size=0.3, random_state=0)\n",
        "\n",
        "\n",
        "\n",
        "[ ]\n",
        "\"\"\"Τεστ ορθής ανάγνωσης και διαχωρισμού του συνόλου δεδομένων\"\"\"\n",
        "assert round(X_train[0][8], 5) == 0.1779\n",
        "assert round(X_test[0][8], 5) == 0.2116\n",
        "2 Υλοποιήστε μια ντετερμινιστική εκδοχή της μεθόδου των τυχαίων υποχώρων, η οποία χτίζει τόσα μοντέλα όσες και οι μεταβλητές εισόδου, κάθε ένα από τα οποία αγνοεί και μία διαφορετική μεταβλητή εισόδου. Π.χ. το πρώτο μοντέλο αγνοεί την πρώτη, το δεύτερο αγνοεί τη δεύτερη κτλ. Χρησιμοποιήστε τη συνάρτηση clone από το sklearn.base για να δημιουργήστε αντίγραφο του βασικού μοντέλου σε κάθε επανάληψη. (4 μονάδες)\n",
        "\n",
        "\n",
        "[ ]\n",
        "import numpy as np\n",
        "from sklearn.tree import DecisionTreeClassifier\n",
        "from sklearn.base import clone\n",
        "\n",
        "class RandomSubspaceDet:\n",
        "    def __init__(self, estimator=DecisionTreeClassifier()):\n",
        "        self.estimator = estimator\n",
        "        self.models = []\n",
        "        self.n_features = None\n",
        "\n",
        "    def fit(self, X_train, y_train):\n",
        "        self.n_features = X_train.shape[1]\n",
        "        self.models = []\n",
        "\n",
        "        for i in range(self.n_features):\n",
        "            new_X_train = np.delete(X_train, i, axis=1) # εδώ αφαιρώ την i μεταβλητή εισόδου\n",
        "            temp_mod = clone(self.estimator) # αντίγραφο βασικού μοντέλου\n",
        "            temp_mod.fit(new_X_train, y_train) #\n",
        "            self.models.append(temp_mod)\n",
        "\n",
        "    def predict(self, X):\n",
        "        predictions = np.zeros((X.shape[0], self.n_features)) # πίνακας μηδενικών\n",
        "\n",
        "        for i, model in enumerate(self.models): # loop για κάθε μοντέλο\n",
        "            new_X = np.delete(X, i, axis=1) # για αντιστοίχηση με fit\n",
        "            predictions[:, i] = model.predict(new_X)\n",
        "\n",
        "        # Συνδυασμός των προβλέψεων με ψηφοφορία\n",
        "        final_predictions = np.apply_along_axis(lambda x: np.bincount(x.astype(int)).argmax(), axis=1, arr=predictions)\n",
        "        #arr=\"πινακας που θα εφαρμοστεί η συνάρτηση\" ,argmax=\"θεση μεγαλύτερης τιμής\"\n",
        "        return final_predictions\n",
        "\n",
        "\n",
        "[ ]\n",
        "\"\"\"Τεστ ορθής υλοποίησης RandomSubspaceDet\"\"\"\n",
        "from sklearn.metrics import accuracy_score\n",
        "\n",
        "rs = RandomSubspaceDet(estimator=DecisionTreeClassifier(random_state=1))\n",
        "rs.fit(X_train, y_train)\n",
        "assert round(accuracy_score(rs.predict(X_test), y_test), 4) == 0.9006\n",
        "3 Υλοποιήστε τη μέθοδο AdaBoost όπως παρουσιάστηκε στο μάθημα. Χρησιμοποιήστε τη συνάρτηση clone από το sklearn.base για να δημιουργήστε αντίγραφο του βασικού μοντέλου σε κάθε επανάληψη. Χρησιμοποιήστε την παράμετρο sample_weight της fit του βασικού μοντέλου για να ορίσετε τα βάρη των παραδειγμάτων εκπαίδευσης. (4 μονάδες)\n",
        "\n",
        "\n",
        "[ ]\n",
        "\n",
        "\n",
        "        n_samples = X_train.shape[0]\n",
        "        sample_weight = np.ones(n_samples) / n_samples     # Αρχικοποίω τα βάρη\n",
        "\n",
        "        for t in range(self.n_estimators):\n",
        "\n",
        "            model = clone(self.estimator) # Δημιουργία αντιγράφου\n",
        "            model.fit(X_train, y_train, sample_weight=sample_weight)\n",
        "\n",
        "            y_pred = model.predict(X_train)\n",
        "            incorrect = (y_pred != y_train).astype(int)  # Υπολογισμός των εσφαλμένων ταξινομημένων παραδειγμάτων\n",
        "\n",
        "            weighted_error = np.dot(sample_weight, incorrect) / np.sum(sample_weight) #σταθμισμένο σφάλμα\n",
        "\n",
        "            if weighted_error >= 0.5 or weighted_error == 0:\n",
        "                break\n",
        "\n",
        "            # Υπολογισμός του alpha\n",
        "            alpha = 0.5 * np.log((1 - weighted_error) / (weighted_error + 1e-10))\n",
        "            self.models.append(model)\n",
        "            self.alphas.append(alpha)\n",
        "\n",
        "\n",
        "            sample_weight *= np.exp(alpha * incorrect * 2 - alpha) # Ενημέρωση των βαρών\n",
        "            sample_weight /= np.sum(sample_weight)  # Κανονικοποίηση των βαρών\n",
        "\n",
        "    def predict(self, X):\n",
        "\n",
        "        model_preds = np.array([model.predict(X) for model in self.models])  # Πρόβλεψη από όλα τα μοντέλα\n",
        "\n",
        "        # Υπολογισμός σταθμισμένων ψήφων\n",
        "        weighted_votes = np.zeros((X.shape[0], len(np.unique(y_train))))\n",
        "        for alpha, preds in zip(self.alphas, model_preds):\n",
        "            for i, pred in enumerate(preds):\n",
        "                weighted_votes[i, pred] += alpha\n",
        "\n",
        "        # Επιλογή της κλάσης με την υψηλότερη σταθμισμένη ψήφο\n",
        "        return np.argmax(weighted_votes, axis=1)"
      ],
      "metadata": {
        "id": "65S_hG6wlf5g"
      },
      "execution_count": null,
      "outputs": []
    },
    {
      "cell_type": "code",
      "execution_count": null,
      "metadata": {
        "deletable": false,
        "editable": false,
        "id": "jVjqVcv_tmYk",
        "nbgrader": {
          "cell_type": "code",
          "checksum": "32aff6a2c5ed06a7b34e982fc295d895",
          "grade": true,
          "grade_id": "cell-88a2903df26757f7",
          "locked": true,
          "points": 4,
          "schema_version": 3,
          "solution": false,
          "task": false
        },
        "colab": {
          "base_uri": "https://localhost:8080/"
        },
        "outputId": "70356298-9d76-4192-d02c-ae7bd8af2ed8"
      },
      "outputs": [
        {
          "output_type": "stream",
          "name": "stdout",
          "text": [
            "0.9591\n"
          ]
        }
      ],
      "source": [
        "\"\"\"Τεστ ορθής υλοποίησης AdaBoost\"\"\"\n",
        "from sklearn.ensemble import AdaBoostClassifier\n",
        "from sklearn.metrics import accuracy_score\n",
        "\n",
        "ab = AdaBoost(n_estimators=20, estimator=DecisionTreeClassifier(max_depth=1, random_state=1))\n",
        "ab.fit(X_train, y_train)\n",
        "print(round (accuracy_score(ab.predict(X_test), y_test), 4))\n",
        "assert round(accuracy_score(ab.predict(X_test), y_test), 4) == 0.9591\n"
      ]
    },
    {
      "cell_type": "code",
      "execution_count": null,
      "metadata": {
        "deletable": false,
        "editable": false,
        "id": "0QkPMoBNz3T5",
        "nbgrader": {
          "cell_type": "code",
          "checksum": "71c5a522427b4fc254b65b5d431a767d",
          "grade": false,
          "grade_id": "cell-4f6f954c3531f480",
          "locked": true,
          "schema_version": 3,
          "solution": false,
          "task": false
        }
      },
      "outputs": [],
      "source": [
        "# Ίδιο αποτέλεσμα και με τη κλάση της sklearn\n",
        "ab = AdaBoostClassifier(n_estimators=20, algorithm=\"SAMME\", estimator=DecisionTreeClassifier(max_depth=1, random_state=1))\n",
        "ab.fit(X_train, y_train)\n",
        "assert round(accuracy_score(ab.predict(X_test), y_test), 4) == 0.9591"
      ]
    }
  ],
  "metadata": {
    "colab": {
      "provenance": [],
      "include_colab_link": true
    },
    "kernelspec": {
      "display_name": "Python 3 (ipykernel)",
      "language": "python",
      "name": "python3"
    },
    "language_info": {
      "codemirror_mode": {
        "name": "ipython",
        "version": 3
      },
      "file_extension": ".py",
      "mimetype": "text/x-python",
      "name": "python",
      "nbconvert_exporter": "python",
      "pygments_lexer": "ipython3",
      "version": "3.10.12"
    }
  },
  "nbformat": 4,
  "nbformat_minor": 0
}